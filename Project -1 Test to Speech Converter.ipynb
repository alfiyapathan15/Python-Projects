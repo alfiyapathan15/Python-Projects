{
 "cells": [
  {
   "cell_type": "markdown",
   "id": "398468dc-1e43-42c2-91d4-11106e9ae817",
   "metadata": {},
   "source": [
    "# Project - 1 Test to Speech Converter"
   ]
  },
  {
   "cell_type": "code",
   "execution_count": 1,
   "id": "2c7e1066-afc0-4582-8770-9ff5f13aa0df",
   "metadata": {},
   "outputs": [
    {
     "name": "stdout",
     "output_type": "stream",
     "text": [
      "Requirement already satisfied: pyttsx3 in c:\\users\\danish\\anaconda3\\lib\\site-packages (2.98)\n",
      "Requirement already satisfied: comtypes in c:\\users\\danish\\anaconda3\\lib\\site-packages (from pyttsx3) (1.4.10)\n",
      "Requirement already satisfied: pypiwin32 in c:\\users\\danish\\anaconda3\\lib\\site-packages (from pyttsx3) (223)\n",
      "Requirement already satisfied: pywin32 in c:\\users\\danish\\anaconda3\\lib\\site-packages (from pyttsx3) (305.1)\n",
      "Note: you may need to restart the kernel to use updated packages.\n"
     ]
    }
   ],
   "source": [
    "pip install pyttsx3"
   ]
  },
  {
   "cell_type": "code",
   "execution_count": 2,
   "id": "c2a32536-d1e4-4e7d-97df-0cde835da8a3",
   "metadata": {},
   "outputs": [],
   "source": [
    "import pyttsx3\n",
    "pyobj=pyttsx3.init()\n",
    "pyobj.say(\"Mummy Ramzan Kareem March se Start hoge kyaaaa\")\n",
    "pyobj.runAndWait()"
   ]
  },
  {
   "cell_type": "code",
   "execution_count": 3,
   "id": "ff2cb2e9-07cc-452b-bff3-9db53e068a21",
   "metadata": {},
   "outputs": [],
   "source": [
    "import pyttsx3\n",
    "pyobj=pyttsx3.init()\n",
    "pyobj.setProperty(\"rate\",100)\n",
    "pyobj.setProperty(\"volume\",17)\n",
    "pyobj.say(\"Hello Alfiya\")\n",
    "pyobj.runAndWait()"
   ]
  },
  {
   "cell_type": "code",
   "execution_count": null,
   "id": "adc80a53-d8ca-4194-8952-3acac0dd1665",
   "metadata": {},
   "outputs": [],
   "source": []
  }
 ],
 "metadata": {
  "kernelspec": {
   "display_name": "Python 3 (ipykernel)",
   "language": "python",
   "name": "python3"
  },
  "language_info": {
   "codemirror_mode": {
    "name": "ipython",
    "version": 3
   },
   "file_extension": ".py",
   "mimetype": "text/x-python",
   "name": "python",
   "nbconvert_exporter": "python",
   "pygments_lexer": "ipython3",
   "version": "3.12.7"
  }
 },
 "nbformat": 4,
 "nbformat_minor": 5
}
