{
 "cells": [
  {
   "cell_type": "markdown",
   "id": "eaa3c2d5-d8dc-4902-88a2-bde9e973ec70",
   "metadata": {},
   "source": [
    "# Python Project 2 QR CODE Generator(To Accept Payment)"
   ]
  },
  {
   "cell_type": "code",
   "execution_count": 2,
   "id": "0275557f-dcac-4f65-be27-82ff6a77dfe3",
   "metadata": {},
   "outputs": [
    {
     "name": "stdout",
     "output_type": "stream",
     "text": [
      "Requirement already satisfied: qrcode in c:\\users\\danish\\anaconda3\\lib\\site-packages (8.0)\n",
      "Requirement already satisfied: colorama in c:\\users\\danish\\anaconda3\\lib\\site-packages (from qrcode) (0.4.6)\n",
      "Note: you may need to restart the kernel to use updated packages.\n"
     ]
    }
   ],
   "source": [
    "pip install qrcode\n"
   ]
  },
  {
   "cell_type": "code",
   "execution_count": 3,
   "id": "aaeb07ec-35f6-4f25-a4ab-6db93f8ec5a2",
   "metadata": {},
   "outputs": [],
   "source": [
    "import qrcode"
   ]
  },
  {
   "cell_type": "code",
   "execution_count": 4,
   "id": "859c707a-12dc-4d4b-8962-56e9b170b7c0",
   "metadata": {},
   "outputs": [
    {
     "name": "stdout",
     "output_type": "stream",
     "text": [
      "Requirement already satisfied: Pillow in c:\\users\\danish\\anaconda3\\lib\\site-packages (10.4.0)\n",
      "Note: you may need to restart the kernel to use updated packages.\n"
     ]
    }
   ],
   "source": [
    "pip install Pillow"
   ]
  },
  {
   "cell_type": "code",
   "execution_count": 5,
   "id": "7641b705-0fe9-4acc-b0b7-9ef264ba74e2",
   "metadata": {},
   "outputs": [],
   "source": [
    "# Taking UPI ID as Input"
   ]
  },
  {
   "cell_type": "code",
   "execution_count": 5,
   "id": "a05f0ea7-6748-4b55-954b-c98fb0bddee4",
   "metadata": {},
   "outputs": [
    {
     "name": "stdin",
     "output_type": "stream",
     "text": [
      "Enter your UPI ID= 9370659115@axl\n"
     ]
    }
   ],
   "source": [
    "import qrcode\n",
    "\n",
    "upi_id=input(\"Enter your UPI ID=\")\n",
    "#upi://pay?pa=UPI_ID&pn=Name&am=Amount&cu=Currency&tn=Message\n",
    "#Defining the Payment URL based on the UPI ID and the Payment app\n",
    "#You can modify these URLs based on the payment apps you want to support \n",
    "phonepe_url=f'upi://pay?pa={upi_id}&pn=Recipient%20Name&mc=1234'\n",
    "paytm_url=f'upi://pay?pa={upi_id}&pn=Recipient%20Name&mc=1234'\n",
    "google_pay_url=f'upi://pay?pa={upi_id}&pn=Recipient%20Name&mc=1234'\n",
    "\n",
    "\n",
    "#Create QR Codes for each payment app\n",
    "phonepe_qr=qrcode.make(phonepe_url)\n",
    "paytm_qr=qrcode.make(paytm_url)\n",
    "google_pay_qr=qrcode.make(google_pay_url)\n",
    "\n",
    "#Save the QR Code to image file(Optional)\n",
    "phonepe_qr.save('phonepe_qr.png')\n",
    "paytm_qr.save('paytm_qr.png')\n",
    "google_pay_qr.save('google_pay_qr.png')\n",
    "\n",
    "\n",
    "#Display the QR Codes(you may need to install PIL/Pillow Library)\n",
    "phonepe_qr.show()\n",
    "paytm_qr.show()\n",
    "google_pay_qr.show()"
   ]
  },
  {
   "cell_type": "code",
   "execution_count": null,
   "id": "a63d276a-c063-48a2-ab66-9177941802f1",
   "metadata": {},
   "outputs": [],
   "source": []
  }
 ],
 "metadata": {
  "kernelspec": {
   "display_name": "Python 3 (ipykernel)",
   "language": "python",
   "name": "python3"
  },
  "language_info": {
   "codemirror_mode": {
    "name": "ipython",
    "version": 3
   },
   "file_extension": ".py",
   "mimetype": "text/x-python",
   "name": "python",
   "nbconvert_exporter": "python",
   "pygments_lexer": "ipython3",
   "version": "3.12.7"
  }
 },
 "nbformat": 4,
 "nbformat_minor": 5
}
