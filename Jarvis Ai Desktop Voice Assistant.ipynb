{
 "cells": [
  {
   "cell_type": "markdown",
   "id": "382cd32e-3477-41dd-afb2-89e1dc07b003",
   "metadata": {},
   "source": [
    "# Project-4 Jarvis Ai Desktop Voice Assistant"
   ]
  },
  {
   "cell_type": "code",
   "execution_count": 2,
   "id": "fca01260-c5e9-43fc-a137-3141eed91da5",
   "metadata": {},
   "outputs": [
    {
     "name": "stdout",
     "output_type": "stream",
     "text": [
      "Defaulting to user installation because normal site-packages is not writeable\n",
      "Requirement already satisfied: pyttsx3 in c:\\users\\alfiy\\appdata\\roaming\\python\\python313\\site-packages (2.99)\n",
      "Requirement already satisfied: comtypes in c:\\users\\alfiy\\appdata\\roaming\\python\\python313\\site-packages (from pyttsx3) (1.4.11)\n",
      "Requirement already satisfied: pypiwin32 in c:\\users\\alfiy\\appdata\\roaming\\python\\python313\\site-packages (from pyttsx3) (223)\n",
      "Requirement already satisfied: pywin32 in c:\\programdata\\anaconda3\\lib\\site-packages (from pyttsx3) (308)\n",
      "Note: you may need to restart the kernel to use updated packages.\n"
     ]
    }
   ],
   "source": [
    "pip install pyttsx3"
   ]
  },
  {
   "cell_type": "code",
   "execution_count": 12,
   "id": "05bbf820-af51-46be-9ee6-579a008b0536",
   "metadata": {},
   "outputs": [
    {
     "name": "stdout",
     "output_type": "stream",
     "text": [
      "Defaulting to user installation because normal site-packages is not writeable\n",
      "Requirement already satisfied: speechRecognition in c:\\users\\alfiy\\appdata\\roaming\\python\\python313\\site-packages (3.14.3)\n",
      "Requirement already satisfied: typing-extensions in c:\\programdata\\anaconda3\\lib\\site-packages (from speechRecognition) (4.12.2)\n",
      "Requirement already satisfied: standard-aifc in c:\\users\\alfiy\\appdata\\roaming\\python\\python313\\site-packages (from speechRecognition) (3.13.0)\n",
      "Requirement already satisfied: audioop-lts in c:\\users\\alfiy\\appdata\\roaming\\python\\python313\\site-packages (from speechRecognition) (0.2.1)\n",
      "Requirement already satisfied: standard-chunk in c:\\users\\alfiy\\appdata\\roaming\\python\\python313\\site-packages (from standard-aifc->speechRecognition) (3.13.0)\n",
      "Note: you may need to restart the kernel to use updated packages.\n"
     ]
    }
   ],
   "source": [
    "pip install speechRecognition"
   ]
  },
  {
   "cell_type": "code",
   "execution_count": 20,
   "id": "68a217bc-54a8-45f2-8f3b-7dedd3cb4374",
   "metadata": {},
   "outputs": [
    {
     "name": "stdout",
     "output_type": "stream",
     "text": [
      "Defaulting to user installation because normal site-packages is not writeable\n",
      "Collecting PyAudio\n",
      "  Downloading PyAudio-0.2.14-cp313-cp313-win_amd64.whl.metadata (2.7 kB)\n",
      "Downloading PyAudio-0.2.14-cp313-cp313-win_amd64.whl (173 kB)\n",
      "Installing collected packages: PyAudio\n",
      "Successfully installed PyAudio-0.2.14\n",
      "Note: you may need to restart the kernel to use updated packages.\n"
     ]
    }
   ],
   "source": [
    "pip install PyAudio\n"
   ]
  },
  {
   "cell_type": "code",
   "execution_count": 6,
   "id": "fe2a7306-7872-4202-ba29-adfcf07c1bf8",
   "metadata": {},
   "outputs": [
    {
     "name": "stdout",
     "output_type": "stream",
     "text": [
      "Defaulting to user installation because normal site-packages is not writeable\n",
      "Collecting wikipedia\n",
      "  Downloading wikipedia-1.4.0.tar.gz (27 kB)\n",
      "  Preparing metadata (setup.py): started\n",
      "  Preparing metadata (setup.py): finished with status 'done'\n",
      "Requirement already satisfied: beautifulsoup4 in c:\\programdata\\anaconda3\\lib\\site-packages (from wikipedia) (4.12.3)\n",
      "Requirement already satisfied: requests<3.0.0,>=2.0.0 in c:\\programdata\\anaconda3\\lib\\site-packages (from wikipedia) (2.32.3)\n",
      "Requirement already satisfied: charset-normalizer<4,>=2 in c:\\programdata\\anaconda3\\lib\\site-packages (from requests<3.0.0,>=2.0.0->wikipedia) (3.3.2)\n",
      "Requirement already satisfied: idna<4,>=2.5 in c:\\programdata\\anaconda3\\lib\\site-packages (from requests<3.0.0,>=2.0.0->wikipedia) (3.7)\n",
      "Requirement already satisfied: urllib3<3,>=1.21.1 in c:\\programdata\\anaconda3\\lib\\site-packages (from requests<3.0.0,>=2.0.0->wikipedia) (2.3.0)\n",
      "Requirement already satisfied: certifi>=2017.4.17 in c:\\programdata\\anaconda3\\lib\\site-packages (from requests<3.0.0,>=2.0.0->wikipedia) (2025.6.15)\n",
      "Requirement already satisfied: soupsieve>1.2 in c:\\programdata\\anaconda3\\lib\\site-packages (from beautifulsoup4->wikipedia) (2.5)\n",
      "Building wheels for collected packages: wikipedia\n",
      "  Building wheel for wikipedia (setup.py): started\n",
      "  Building wheel for wikipedia (setup.py): finished with status 'done'\n",
      "  Created wheel for wikipedia: filename=wikipedia-1.4.0-py3-none-any.whl size=11704 sha256=0c5f19296ff4968e4560cedb70b9d8c5c6530907b33bc075c9fc65bdd7ecee28\n",
      "  Stored in directory: c:\\users\\alfiy\\appdata\\local\\pip\\cache\\wheels\\79\\1d\\c8\\b64e19423cc5a2a339450ea5d145e7c8eb3d4aa2b150cde33b\n",
      "Successfully built wikipedia\n",
      "Installing collected packages: wikipedia\n",
      "Successfully installed wikipedia-1.4.0\n",
      "Note: you may need to restart the kernel to use updated packages.\n"
     ]
    },
    {
     "name": "stderr",
     "output_type": "stream",
     "text": [
      "  DEPRECATION: Building 'wikipedia' using the legacy setup.py bdist_wheel mechanism, which will be removed in a future version. pip 25.3 will enforce this behaviour change. A possible replacement is to use the standardized build interface by setting the `--use-pep517` option, (possibly combined with `--no-build-isolation`), or adding a `pyproject.toml` file to the source tree of 'wikipedia'. Discussion can be found at https://github.com/pypa/pip/issues/6334\n"
     ]
    }
   ],
   "source": [
    "pip install wikipedia"
   ]
  },
  {
   "cell_type": "code",
   "execution_count": 7,
   "id": "27aa8407-e960-4ef4-b81e-8f855458b7df",
   "metadata": {},
   "outputs": [],
   "source": [
    "import pyttsx3\n",
    "import speech_recognition as sr\n",
    "from datetime import datetime\n",
    "\n",
    "# Initialize the text-to-speech engine\n",
    "engine = pyttsx3.init()\n",
    "\n",
    "def speak(audio):\n",
    "    engine.say(audio)\n",
    "    engine.runAndWait()\n",
    "\n",
    "def wishMe():\n",
    "    hour = int(datetime.now().hour)\n",
    "    if hour >= 0 and hour < 12:\n",
    "        speak(\"Good Morning!\")\n",
    "\n",
    "    elif hour >= 12 and hour < 18:\n",
    "        speak(\"Good Afternoon!\")\n",
    "\n",
    "    else:\n",
    "        speak(\"Good Evening!\")\n",
    "\n",
    "    speak(\"I'm Jarvis Sir. Please tell me how may I help you.\")\n",
    "\n",
    "def takeCommand():\n",
    "    # It takes microphone input from the user and returns string output\n",
    "    r = sr.Recognizer()\n",
    "    with sr.Microphone() as source:\n",
    "        print(\"Listening...\")\n",
    "        r.pause_threshold = 1\n",
    "        audio = r.listen(source)\n",
    "\n",
    "    try:\n",
    "        print(\"Recognizing...\")\n",
    "        query = r.recognize_google(audio, language='en-in')  # Fixed 'Language' typo\n",
    "        print(f\"User said: {query}\\n\")\n",
    "\n",
    "    except Exception as e:\n",
    "        print(\"Say that again please...\")\n",
    "        return \"None\"\n",
    "\n",
    "    return query\n",
    "\n",
    "# Correct placement of main block\n",
    "if __name__ == \"__main__\":\n",
    "    wishMe()\n",
    "    takeCommand()\n"
   ]
  },
  {
   "cell_type": "code",
   "execution_count": 8,
   "id": "d9e3c275-fa53-4db5-90d3-5eb0114020be",
   "metadata": {},
   "outputs": [],
   "source": [
    "import wikipedia"
   ]
  },
  {
   "cell_type": "code",
   "execution_count": null,
   "id": "015cf2f3-ec35-4a27-998d-7fb054feff52",
   "metadata": {},
   "outputs": [],
   "source": [
    "#Keep Going"
   ]
  },
  {
   "cell_type": "code",
   "execution_count": 9,
   "id": "f7f1329f-784a-4542-888e-b0e0b2c1e86a",
   "metadata": {},
   "outputs": [
    {
     "name": "stdout",
     "output_type": "stream",
     "text": [
      "Listening...\n",
      "Recognizing...\n",
      "User said: hello Mojo\n",
      "\n"
     ]
    }
   ],
   "source": [
    "import pyttsx3\n",
    "import datetime\n",
    "import speech_recognition as sr\n",
    "import pyttsx3\n",
    "import speech_recognition as sr\n",
    "from datetime import datetime\n",
    "\n",
    "# Initialize the text-to-speech engine\n",
    "engine = pyttsx3.init()\n",
    "\n",
    "def speak(audio):\n",
    "    engine.say(audio)\n",
    "    engine.runAndWait()\n",
    "\n",
    "def wishMe():\n",
    "    hour = int(datetime.now().hour)\n",
    "    if hour >= 0 and hour < 12:\n",
    "        speak(\"Good Morning!\")\n",
    "\n",
    "    elif hour >= 12 and hour < 18:\n",
    "        speak(\"Good Afternoon!\")\n",
    "\n",
    "    else:\n",
    "        speak(\"Good Evening!\")\n",
    "\n",
    "    speak(\"I'm Jarvis Sir. Please tell me how may I help you.\")\n",
    "\n",
    "def takeCommand():\n",
    "    # It takes microphone input from the user and returns string output\n",
    "    r = sr.Recognizer()\n",
    "    with sr.Microphone() as source:\n",
    "        print(\"Listening...\")\n",
    "        r.pause_threshold = 1\n",
    "        audio = r.listen(source)\n",
    "\n",
    "    try:\n",
    "        print(\"Recognizing...\")\n",
    "        query = r.recognize_google(audio, language='en-in')  # Fixed 'Language' typo\n",
    "        print(f\"User said: {query}\\n\")\n",
    "\n",
    "    except Exception as e:\n",
    "        print(\"Say that again please...\")\n",
    "        return \"None\"\n",
    "\n",
    "    return query\n",
    "\n",
    "# Correct placement of main block\n",
    "if __name__ == \"__main__\":\n",
    "    wishMe()\n",
    "    takeCommand()\n"
   ]
  },
  {
   "cell_type": "code",
   "execution_count": 2,
   "id": "7aa8ae26-f636-4b72-b806-eeacdf7df4e3",
   "metadata": {},
   "outputs": [],
   "source": [
    "engine=pyttsx3.init('sapi5')\n",
    "voices=engine.getProperty('voices')\n",
    "#print(voices[1].id)\n",
    "engine.setProperty('voice',voices[0].id)"
   ]
  },
  {
   "cell_type": "code",
   "execution_count": 3,
   "id": "6d6c1b80-647b-4a68-aaf4-78b136a155e2",
   "metadata": {},
   "outputs": [],
   "source": [
    "engine=pyttsx3.init('sapi5')\n",
    "voices=engine.getProperty('voices')\n",
    "#print(voices[1].id)\n",
    "engine.setProperty('voice',voices[0].id)\n",
    "\n",
    "def speak(audio):\n",
    "    engine.say(audio)\n",
    "    engine.runAndWait()\n",
    "\n",
    "def wishMe():\n",
    "    hour=int(datetime.now().hour)\n",
    "    if hour>=0 and hour<12:\n",
    "        speak(\"Good Morning!\")\n",
    "\n",
    "    elif hour>=12 and hour<18:\n",
    "        speak(\"Good Afternoon!\")\n",
    "\n",
    "    else:\n",
    "        speak(\"Good Evening!\")\n",
    "\n",
    "        speak(\"I'm Jarvis Sir.Please tell me how may I help You\")\n",
    "\n",
    "\n",
    "def takeCommand():\n",
    "     # It takes microphone input from the user  and return string output\n",
    "     r=sr.Recognizer()\n",
    "     with sr.Microphone() as source:\n",
    "         print(\"Listening...\")\n",
    "         r.pause_threshold=1\n",
    "         audio=r.listen(source)\n",
    "\n",
    "     try:\n",
    "        print(\"Recognizing...\")\n",
    "        query=r.recognize_google(audio,Language='en-in')\n",
    "        print(f\"User Said:{query}\\n\")\n",
    "\n",
    "     except Exception as e:\n",
    "       #print(e)\n",
    "       print(\"Say that again please...\")\n",
    "       return \"None\"\n",
    "    \n",
    "     return query\n",
    "    \n",
    "     if __name__==\"__main__\":\n",
    "      #  speak(\"Alfiya is a Successful Data Scientist\")\n",
    "        wishMe()\n",
    "        takeCommand()\n"
   ]
  },
  {
   "cell_type": "code",
   "execution_count": 16,
   "id": "38fe408f-3b9c-4841-a467-9a910fee2baa",
   "metadata": {},
   "outputs": [],
   "source": [
    "import pyttsx3\n",
    "\n",
    "engine = pyttsx3.init()\n",
    "engine.say(\"Hello, I am Jarvis.\")\n",
    "engine.runAndWait()\n"
   ]
  },
  {
   "cell_type": "code",
   "execution_count": null,
   "id": "b4bcb95b-e6b4-47ba-8287-fd664a8e24ea",
   "metadata": {},
   "outputs": [
    {
     "name": "stdout",
     "output_type": "stream",
     "text": [
      "Listening...\n",
      "Recognizing...\n",
      "User said: hello\n",
      "\n",
      "Listening...\n",
      "Recognizing...\n",
      "Sorry, could you please say that again?\n",
      "Listening...\n"
     ]
    }
   ],
   "source": [
    "import pyttsx3\n",
    "import speech_recognition as sr\n",
    "from datetime import datetime\n",
    "\n",
    "# Initialize text-to-speech engine\n",
    "engine = pyttsx3.init('sapi5')  # Only works on Windows\n",
    "voices = engine.getProperty('voices')\n",
    "engine.setProperty('voice', voices[0].id)  # Use voices[1].id for female voice\n",
    "\n",
    "def speak(text):\n",
    "    engine.say(text)\n",
    "    engine.runAndWait()\n",
    "\n",
    "def wishMe():\n",
    "    hour = datetime.now().hour\n",
    "    if 0 <= hour < 12:\n",
    "        speak(\"Good Morning!\")\n",
    "    elif 12 <= hour < 18:\n",
    "        speak(\"Good Afternoon!\")\n",
    "    else:\n",
    "        speak(\"Good Evening!\")\n",
    "    speak(\"I am Jarvis Sir. Please tell me how may I help you.\")\n",
    "\n",
    "def takeCommand():\n",
    "    r = sr.Recognizer()\n",
    "    with sr.Microphone() as source:\n",
    "        print(\"Listening...\")\n",
    "        r.pause_threshold = 1\n",
    "        r.energy_threshold = 300\n",
    "        audio = r.listen(source)\n",
    "\n",
    "    try:\n",
    "        print(\"Recognizing...\")\n",
    "        query = r.recognize_google(audio, language='en-in')\n",
    "        print(f\"User said: {query}\\n\")\n",
    "    except Exception as e:\n",
    "        print(\"Sorry, could you please say that again?\")\n",
    "        return \"None\"\n",
    "    \n",
    "    return query\n",
    "\n",
    "if __name__ == \"__main__\":\n",
    "    wishMe()\n",
    "\n",
    "    while True:\n",
    "        command = takeCommand().lower()\n",
    "\n",
    "        if 'exit' in command or 'stop' in command:\n",
    "            speak(\"Goodbye Sir. Have a great day!\")\n",
    "            break\n",
    "\n",
    "        elif 'your name' in command:\n",
    "            speak(\"My name is Jarvis.\")\n",
    "\n",
    "        elif 'who created you' in command:\n",
    "            speak(\"I was created by Alfiya Pathan, a successful data scientist.\")\n",
    "\n",
    "        else:\n",
    "            speak(\"Sorry, I didn't understand that. Please try again.\")\n"
   ]
  },
  {
   "cell_type": "code",
   "execution_count": 2,
   "id": "ad7ddf3b-0160-4846-aae9-0b8fb294409c",
   "metadata": {},
   "outputs": [
    {
     "name": "stdout",
     "output_type": "stream",
     "text": [
      "Listening...\n",
      "Recognizing...\n",
      "Say that again please...\n"
     ]
    }
   ],
   "source": [
    "import pyttsx3\n",
    "import speech_recognition as sr\n",
    "from datetime import datetime\n",
    "\n",
    "# Initialize the text-to-speech engine\n",
    "engine = pyttsx3.init()\n",
    "\n",
    "def speak(audio):\n",
    "    engine.say(audio)\n",
    "    engine.runAndWait()\n",
    "\n",
    "def wishMe():\n",
    "    hour = int(datetime.now().hour)\n",
    "    if hour >= 0 and hour < 12:\n",
    "        speak(\"Good Morning!\")\n",
    "\n",
    "    elif hour >= 12 and hour < 18:\n",
    "        speak(\"Good Afternoon!\")\n",
    "\n",
    "    else:\n",
    "        speak(\"Good Evening!\")\n",
    "\n",
    "    speak(\"I'm Jarvis Sir. Please tell me how may I help you.\")\n",
    "\n",
    "def takeCommand():\n",
    "    # It takes microphone input from the user and returns string output\n",
    "    r = sr.Recognizer()\n",
    "    with sr.Microphone() as source:\n",
    "        print(\"Listening...\")\n",
    "        r.pause_threshold = 1\n",
    "        audio = r.listen(source)\n",
    "\n",
    "    try:\n",
    "        print(\"Recognizing...\")\n",
    "        query = r.recognize_google(audio, language='en-in')  # Fixed 'Language' typo\n",
    "        print(f\"User said: {query}\\n\")\n",
    "\n",
    "    except Exception as e:\n",
    "        print(\"Say that again please...\")\n",
    "        return \"None\"\n",
    "\n",
    "    return query\n",
    "\n",
    "# Correct placement of main block\n",
    "if __name__ == \"__main__\":\n",
    "    wishMe()\n",
    "    query=takeCommand().lower()\n",
    "     #Logic for executing tasks based on query\n",
    "\n"
   ]
  },
  {
   "cell_type": "code",
   "execution_count": null,
   "id": "87073334-7dd7-45de-8ed1-0d1fa99bfc77",
   "metadata": {},
   "outputs": [],
   "source": []
  }
 ],
 "metadata": {
  "kernelspec": {
   "display_name": "Python 3 (ipykernel)",
   "language": "python",
   "name": "python3"
  },
  "language_info": {
   "codemirror_mode": {
    "name": "ipython",
    "version": 3
   },
   "file_extension": ".py",
   "mimetype": "text/x-python",
   "name": "python",
   "nbconvert_exporter": "python",
   "pygments_lexer": "ipython3",
   "version": "3.13.5"
  }
 },
 "nbformat": 4,
 "nbformat_minor": 5
}
