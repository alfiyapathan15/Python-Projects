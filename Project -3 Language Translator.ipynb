{
 "cells": [
  {
   "cell_type": "markdown",
   "id": "c3596a37-b169-4e4c-8493-562858f19f56",
   "metadata": {},
   "source": [
    "# Project 3 Language Translator"
   ]
  },
  {
   "cell_type": "code",
   "execution_count": null,
   "id": "dfbd0a22-f2a9-40dd-abd2-86d506a8b6e4",
   "metadata": {},
   "outputs": [],
   "source": [
    "x=\"Python\"\n",
    "print(x.swapcase()) "
   ]
  },
  {
   "cell_type": "code",
   "execution_count": null,
   "id": "59ec0f19-c012-4e22-98bc-51a49e46e5c4",
   "metadata": {},
   "outputs": [],
   "source": [
    "x=\"Python\"\n",
    "print(x[::-2])"
   ]
  },
  {
   "cell_type": "code",
   "execution_count": null,
   "id": "f718250d-3f80-4182-994f-51ce6641798f",
   "metadata": {},
   "outputs": [],
   "source": [
    "pip install googletrans"
   ]
  },
  {
   "cell_type": "code",
   "execution_count": 1,
   "id": "7f044a98-cb67-4a0b-ab3b-528c16271763",
   "metadata": {},
   "outputs": [],
   "source": [
    "from tkinter import *   # Provide GUI to users\n",
    "from tkinter import ttk  #ttk is Module to style tkinter visit boxes,for colouring,titles,\n",
    "from googletrans import Translator,LANGUAGES  # Will convert one language to another\n",
    "\n"
   ]
  },
  {
   "cell_type": "code",
   "execution_count": 2,
   "id": "1fc2597c-1fec-4666-ad9b-a0e92df5d4c6",
   "metadata": {},
   "outputs": [],
   "source": [
    "from tkinter import*\n",
    "import tkinter as tk\n",
    "from tkinter import ttk\n",
    "from googletrans import Translator \n",
    "from tkinter import  messagebox"
   ]
  },
  {
   "cell_type": "code",
   "execution_count": 8,
   "id": "39abb108-5839-41e7-b620-81ed43d54a4e",
   "metadata": {},
   "outputs": [
    {
     "name": "stdout",
     "output_type": "stream",
     "text": [
      "Requirement already satisfied: googletrans in c:\\users\\danish\\anaconda3\\lib\\site-packages (4.0.0rc1)\n",
      "Requirement already satisfied: httpx==0.13.3 in c:\\users\\danish\\anaconda3\\lib\\site-packages (from googletrans) (0.13.3)\n",
      "Requirement already satisfied: certifi in c:\\users\\danish\\anaconda3\\lib\\site-packages (from httpx==0.13.3->googletrans) (2024.8.30)\n",
      "Requirement already satisfied: hstspreload in c:\\users\\danish\\anaconda3\\lib\\site-packages (from httpx==0.13.3->googletrans) (2025.1.1)\n",
      "Requirement already satisfied: sniffio in c:\\users\\danish\\anaconda3\\lib\\site-packages (from httpx==0.13.3->googletrans) (1.3.0)\n",
      "Requirement already satisfied: chardet==3.* in c:\\users\\danish\\anaconda3\\lib\\site-packages (from httpx==0.13.3->googletrans) (3.0.4)\n",
      "Requirement already satisfied: idna==2.* in c:\\users\\danish\\anaconda3\\lib\\site-packages (from httpx==0.13.3->googletrans) (2.10)\n",
      "Requirement already satisfied: rfc3986<2,>=1.3 in c:\\users\\danish\\anaconda3\\lib\\site-packages (from httpx==0.13.3->googletrans) (1.5.0)\n",
      "Requirement already satisfied: httpcore==0.9.* in c:\\users\\danish\\anaconda3\\lib\\site-packages (from httpx==0.13.3->googletrans) (0.9.1)\n",
      "Requirement already satisfied: h11<0.10,>=0.8 in c:\\users\\danish\\anaconda3\\lib\\site-packages (from httpcore==0.9.*->httpx==0.13.3->googletrans) (0.9.0)\n",
      "Requirement already satisfied: h2==3.* in c:\\users\\danish\\anaconda3\\lib\\site-packages (from httpcore==0.9.*->httpx==0.13.3->googletrans) (3.2.0)\n",
      "Requirement already satisfied: hyperframe<6,>=5.2.0 in c:\\users\\danish\\anaconda3\\lib\\site-packages (from h2==3.*->httpcore==0.9.*->httpx==0.13.3->googletrans) (5.2.0)\n",
      "Requirement already satisfied: hpack<4,>=3.0 in c:\\users\\danish\\anaconda3\\lib\\site-packages (from h2==3.*->httpcore==0.9.*->httpx==0.13.3->googletrans) (3.0.0)\n",
      "Requirement already satisfied: gTTS in c:\\users\\danish\\anaconda3\\lib\\site-packages (2.5.4)\n",
      "Requirement already satisfied: requests<3,>=2.27 in c:\\users\\danish\\anaconda3\\lib\\site-packages (from gTTS) (2.32.3)\n",
      "Requirement already satisfied: click<8.2,>=7.1 in c:\\users\\danish\\anaconda3\\lib\\site-packages (from gTTS) (8.1.7)\n",
      "Requirement already satisfied: colorama in c:\\users\\danish\\anaconda3\\lib\\site-packages (from click<8.2,>=7.1->gTTS) (0.4.6)\n",
      "Requirement already satisfied: charset-normalizer<4,>=2 in c:\\users\\danish\\anaconda3\\lib\\site-packages (from requests<3,>=2.27->gTTS) (3.3.2)\n",
      "Requirement already satisfied: idna<4,>=2.5 in c:\\users\\danish\\anaconda3\\lib\\site-packages (from requests<3,>=2.27->gTTS) (2.10)\n",
      "Requirement already satisfied: urllib3<3,>=1.21.1 in c:\\users\\danish\\anaconda3\\lib\\site-packages (from requests<3,>=2.27->gTTS) (2.2.3)\n",
      "Requirement already satisfied: certifi>=2017.4.17 in c:\\users\\danish\\anaconda3\\lib\\site-packages (from requests<3,>=2.27->gTTS) (2024.8.30)\n",
      "Requirement already satisfied: pyttsx3 in c:\\users\\danish\\anaconda3\\lib\\site-packages (2.98)\n",
      "Requirement already satisfied: comtypes in c:\\users\\danish\\anaconda3\\lib\\site-packages (from pyttsx3) (1.4.10)\n",
      "Requirement already satisfied: pypiwin32 in c:\\users\\danish\\anaconda3\\lib\\site-packages (from pyttsx3) (223)\n",
      "Requirement already satisfied: pywin32 in c:\\users\\danish\\anaconda3\\lib\\site-packages (from pyttsx3) (305.1)\n",
      "Requirement already satisfied: autocorrect in c:\\users\\danish\\anaconda3\\lib\\site-packages (2.6.1)\n"
     ]
    }
   ],
   "source": [
    "!pip install googletrans\n",
    "!pip install gTTS\n",
    "!pip install pyttsx3\n",
    "!pip install autocorrect"
   ]
  },
  {
   "cell_type": "code",
   "execution_count": 9,
   "id": "5e451f6a-8246-43fb-870e-f9d72fe3d05a",
   "metadata": {},
   "outputs": [
    {
     "name": "stdout",
     "output_type": "stream",
     "text": [
      "Requirement already satisfied: googletrans==4.0.0-rc1 in c:\\users\\danish\\anaconda3\\lib\\site-packages (4.0.0rc1)\n",
      "Requirement already satisfied: pyttsx3 in c:\\users\\danish\\anaconda3\\lib\\site-packages (2.98)\n",
      "Requirement already satisfied: httpx==0.13.3 in c:\\users\\danish\\anaconda3\\lib\\site-packages (from googletrans==4.0.0-rc1) (0.13.3)\n",
      "Requirement already satisfied: certifi in c:\\users\\danish\\anaconda3\\lib\\site-packages (from httpx==0.13.3->googletrans==4.0.0-rc1) (2024.8.30)\n",
      "Requirement already satisfied: hstspreload in c:\\users\\danish\\anaconda3\\lib\\site-packages (from httpx==0.13.3->googletrans==4.0.0-rc1) (2025.1.1)\n",
      "Requirement already satisfied: sniffio in c:\\users\\danish\\anaconda3\\lib\\site-packages (from httpx==0.13.3->googletrans==4.0.0-rc1) (1.3.0)\n",
      "Requirement already satisfied: chardet==3.* in c:\\users\\danish\\anaconda3\\lib\\site-packages (from httpx==0.13.3->googletrans==4.0.0-rc1) (3.0.4)\n",
      "Requirement already satisfied: idna==2.* in c:\\users\\danish\\anaconda3\\lib\\site-packages (from httpx==0.13.3->googletrans==4.0.0-rc1) (2.10)\n",
      "Requirement already satisfied: rfc3986<2,>=1.3 in c:\\users\\danish\\anaconda3\\lib\\site-packages (from httpx==0.13.3->googletrans==4.0.0-rc1) (1.5.0)\n",
      "Requirement already satisfied: httpcore==0.9.* in c:\\users\\danish\\anaconda3\\lib\\site-packages (from httpx==0.13.3->googletrans==4.0.0-rc1) (0.9.1)\n",
      "Requirement already satisfied: h11<0.10,>=0.8 in c:\\users\\danish\\anaconda3\\lib\\site-packages (from httpcore==0.9.*->httpx==0.13.3->googletrans==4.0.0-rc1) (0.9.0)\n",
      "Requirement already satisfied: h2==3.* in c:\\users\\danish\\anaconda3\\lib\\site-packages (from httpcore==0.9.*->httpx==0.13.3->googletrans==4.0.0-rc1) (3.2.0)\n",
      "Requirement already satisfied: hyperframe<6,>=5.2.0 in c:\\users\\danish\\anaconda3\\lib\\site-packages (from h2==3.*->httpcore==0.9.*->httpx==0.13.3->googletrans==4.0.0-rc1) (5.2.0)\n",
      "Requirement already satisfied: hpack<4,>=3.0 in c:\\users\\danish\\anaconda3\\lib\\site-packages (from h2==3.*->httpcore==0.9.*->httpx==0.13.3->googletrans==4.0.0-rc1) (3.0.0)\n",
      "Requirement already satisfied: comtypes in c:\\users\\danish\\anaconda3\\lib\\site-packages (from pyttsx3) (1.4.10)\n",
      "Requirement already satisfied: pypiwin32 in c:\\users\\danish\\anaconda3\\lib\\site-packages (from pyttsx3) (223)\n",
      "Requirement already satisfied: pywin32 in c:\\users\\danish\\anaconda3\\lib\\site-packages (from pyttsx3) (305.1)\n",
      "Note: you may need to restart the kernel to use updated packages.\n"
     ]
    }
   ],
   "source": [
    "pip install googletrans==4.0.0-rc1 pyttsx3"
   ]
  },
  {
   "cell_type": "code",
   "execution_count": 10,
   "id": "c8cc2041-77ef-4bae-96e8-b9bee8f62f53",
   "metadata": {},
   "outputs": [
    {
     "name": "stdout",
     "output_type": "stream",
     "text": [
      "Requirement already satisfied: speechRecognition in c:\\users\\danish\\anaconda3\\lib\\site-packages (3.14.1)\n",
      "Requirement already satisfied: typing-extensions in c:\\users\\danish\\anaconda3\\lib\\site-packages (from speechRecognition) (4.11.0)\n",
      "Note: you may need to restart the kernel to use updated packages.\n"
     ]
    }
   ],
   "source": [
    "pip install speechRecognition"
   ]
  },
  {
   "cell_type": "code",
   "execution_count": 11,
   "id": "516209ab-4388-4f31-b9c4-c9883a7c6a1d",
   "metadata": {},
   "outputs": [
    {
     "name": "stdout",
     "output_type": "stream",
     "text": [
      "Requirement already satisfied: textblob in c:\\users\\danish\\anaconda3\\lib\\site-packages (0.19.0)\n",
      "Requirement already satisfied: nltk>=3.9 in c:\\users\\danish\\anaconda3\\lib\\site-packages (from textblob) (3.9.1)\n",
      "Requirement already satisfied: click in c:\\users\\danish\\anaconda3\\lib\\site-packages (from nltk>=3.9->textblob) (8.1.7)\n",
      "Requirement already satisfied: joblib in c:\\users\\danish\\anaconda3\\lib\\site-packages (from nltk>=3.9->textblob) (1.4.2)\n",
      "Requirement already satisfied: regex>=2021.8.3 in c:\\users\\danish\\anaconda3\\lib\\site-packages (from nltk>=3.9->textblob) (2024.9.11)\n",
      "Requirement already satisfied: tqdm in c:\\users\\danish\\anaconda3\\lib\\site-packages (from nltk>=3.9->textblob) (4.66.5)\n",
      "Requirement already satisfied: colorama in c:\\users\\danish\\anaconda3\\lib\\site-packages (from click->nltk>=3.9->textblob) (0.4.6)\n",
      "Note: you may need to restart the kernel to use updated packages.\n"
     ]
    }
   ],
   "source": [
    "pip install textblob"
   ]
  },
  {
   "cell_type": "code",
   "execution_count": 12,
   "id": "60d6755b-03b6-4fb8-b3b6-d3d683beba93",
   "metadata": {},
   "outputs": [
    {
     "name": "stdout",
     "output_type": "stream",
     "text": [
      "Requirement already satisfied: pyaudio in c:\\users\\danish\\anaconda3\\lib\\site-packages (0.2.14)\n",
      "Note: you may need to restart the kernel to use updated packages.\n"
     ]
    }
   ],
   "source": [
    "pip install pyaudio"
   ]
  },
  {
   "cell_type": "code",
   "execution_count": 13,
   "id": "48d47734-720c-42b2-baab-c3d0025d3e85",
   "metadata": {},
   "outputs": [],
   "source": [
    "# Language Translator "
   ]
  },
  {
   "cell_type": "code",
   "execution_count": null,
   "id": "59128a72-6959-4275-b1d4-6b5006defb46",
   "metadata": {},
   "outputs": [],
   "source": [
    "import tkinter as tk\n",
    "from tkinter import ttk, messagebox\n",
    "import speech_recognition as sr\n",
    "import pyttsx3\n",
    "from googletrans import Translator, LANGUAGES\n",
    "from textblob import TextBlob\n",
    "\n",
    "# Initialize translator and text-to-speech engine\n",
    "translator = Translator()\n",
    "engine = pyttsx3.init()\n",
    "\n",
    "# Function to translate and autocorrect text\n",
    "def translate_text():\n",
    "    input_text = input_text_box.get(\"1.0\", tk.END).strip()  # Get text from input box\n",
    "    \n",
    "    if not input_text:\n",
    "        messagebox.showwarning(\"Warning\", \"Please enter text to translate!\")\n",
    "        return\n",
    "    \n",
    "    # Autocorrect input text\n",
    "    #corrected_text = str(TextBlob(input_text).correct())\n",
    "\n",
    "    # Translate into multiple languages\n",
    "    selected_languages = [lang_combobox1.get(), lang_combobox2.get()]\n",
    "    output_text_box.delete(\"1.0\", tk.END)\n",
    "\n",
    "    for lang in selected_languages:\n",
    "        if lang:\n",
    "            translated = translator.translate(corrected_text, dest=lang)\n",
    "            # Autocorrect translated output\n",
    "           # corrected_output = str(TextBlob(translated.text).correct())\n",
    "           # output_text_box.insert(tk.END, f\"{LANGUAGES[lang].capitalize()}:\\n{corrected_output}\\n\\n\")\n",
    "\n",
    "# Function to recognize voice input\n",
    "def recognize_voice():\n",
    "    recognizer = sr.Recognizer()\n",
    "    with sr.Microphone() as source:\n",
    "        try:\n",
    "            status_label.config(text=\"Listening...\", fg=\"red\")\n",
    "            audio = recognizer.listen(source)\n",
    "            status_label.config(text=\"Recognizing...\", fg=\"blue\")\n",
    "            voice_text = recognizer.recognize_google(audio)  # Convert speech to text\n",
    "            \n",
    "            # Insert recognized text into input box\n",
    "            input_text_box.delete(\"1.0\", tk.END)\n",
    "            input_text_box.insert(tk.END, voice_text)\n",
    "            \n",
    "            # Auto-translate\n",
    "            translate_text()\n",
    "            status_label.config(text=\"Voice Recognition Complete\", fg=\"green\")\n",
    "        except sr.UnknownValueError:\n",
    "            messagebox.showerror(\"Error\", \"Could not understand the audio\")\n",
    "        except sr.RequestError:\n",
    "            messagebox.showerror(\"Error\", \"Could not request results from Google Speech Recognition service\")\n",
    "\n",
    "# Function to speak translated text\n",
    "def speak_text():\n",
    "    output_text = output_text_box.get(\"1.0\", tk.END).strip()\n",
    "    if output_text:\n",
    "        engine.say(output_text)\n",
    "        engine.runAndWait()\n",
    "\n",
    "# GUI Setup\n",
    "root = tk.Tk()\n",
    "root.title(\"Multi-Language Translator\")\n",
    "root.geometry(\"650x650\")\n",
    "root.configure(bg=\"#f0f0f0\")  # Background color\n",
    "\n",
    "# Styling\n",
    "label_font = (\"Arial\", 12, \"bold\")\n",
    "button_font = (\"Arial\", 10, \"bold\")\n",
    "\n",
    "# Title Label\n",
    "title_label = tk.Label(root, text=\"Language Translator\", font=(\"Arial\", 16, \"bold\"), bg=\"#4CAF50\", fg=\"white\", pady=10)\n",
    "title_label.pack(fill=tk.X)\n",
    "\n",
    "# Input Text Box\n",
    "tk.Label(root, text=\"Enter Text:\", font=label_font, bg=\"#f0f0f0\").pack()\n",
    "input_text_box = tk.Text(root, height=5, width=60, bg=\"white\", fg=\"black\", font=(\"Arial\", 10))\n",
    "input_text_box.pack()\n",
    "\n",
    "# Language Selection Dropdowns\n",
    "tk.Label(root, text=\"Select Languages:\", font=label_font, bg=\"#f0f0f0\").pack()\n",
    "lang_combobox1 = ttk.Combobox(root, values=list(LANGUAGES.keys()), font=(\"Arial\", 10))\n",
    "lang_combobox1.set(\"en\")  # Default English\n",
    "lang_combobox1.pack()\n",
    "\n",
    "lang_combobox2 = ttk.Combobox(root, values=list(LANGUAGES.keys()), font=(\"Arial\", 10))\n",
    "lang_combobox2.set(\"fr\")  # Default French\n",
    "lang_combobox2.pack()\n",
    "\n",
    "# Translate Button\n",
    "translate_button = tk.Button(root, text=\"Translate\", command=translate_text, font=button_font, bg=\"#2196F3\", fg=\"white\")\n",
    "translate_button.pack(pady=5)\n",
    "\n",
    "# Voice Input Button\n",
    "voice_button = tk.Button(root, text=\"Speak\", command=recognize_voice, font=button_font, bg=\"#FF9800\", fg=\"white\")\n",
    "voice_button.pack(pady=5)\n",
    "\n",
    "# Output Text Box\n",
    "tk.Label(root, text=\"Translated Text:\", font=label_font, bg=\"#f0f0f0\").pack()\n",
    "output_text_box = tk.Text(root, height=10, width=60, bg=\"lightyellow\", fg=\"black\", font=(\"Arial\", 10))\n",
    "output_text_box.pack()\n",
    "\n",
    "# Speak Output Button\n",
    "speak_button = tk.Button(root, text=\"Speak Output\", command=speak_text, font=button_font, bg=\"#4CAF50\", fg=\"white\")\n",
    "speak_button.pack(pady=5)\n",
    "\n",
    "# Status Label (for voice recognition feedback)\n",
    "status_label = tk.Label(root, text=\"\", font=(\"Arial\", 10, \"bold\"), bg=\"#f0f1f0\")\n",
    "status_label.pack()\n",
    "\n",
    "# Run the GUI\n",
    "root.mainloop()\n"
   ]
  },
  {
   "cell_type": "code",
   "execution_count": null,
   "id": "1a826de0-9696-4cc2-9bd4-2b79f9f16396",
   "metadata": {},
   "outputs": [],
   "source": [
    "pip install gtts"
   ]
  },
  {
   "cell_type": "markdown",
   "id": "45eb3efa-a9e2-422e-b895-366926a639b5",
   "metadata": {},
   "source": [
    "# Language Translator"
   ]
  },
  {
   "cell_type": "code",
   "execution_count": null,
   "id": "0d5fd4c8-fc58-44c4-aebc-1df7901bc9a3",
   "metadata": {},
   "outputs": [],
   "source": [
    "import tkinter as tk\n",
    "from tkinter import ttk, messagebox\n",
    "import speech_recognition as sr\n",
    "import pyttsx3\n",
    "from googletrans import Translator, LANGUAGES\n",
    "from textblob import TextBlob\n",
    "from gtts import gTTS\n",
    "\n",
    "# Initialize translator and text-to-speech engine\n",
    "translator = Translator()\n",
    "engine = pyttsx3.init()\n",
    "\n",
    "# Function to translate and autocorrect text\n",
    "def translate_text():\n",
    "    input_text = input_text_box.get(\"1.0\", tk.END).strip()\n",
    "\n",
    "    if not input_text:\n",
    "        messagebox.showwarning(\"Warning\", \"Please enter text to translate!\")\n",
    "        return\n",
    "\n",
    "    # Autocorrect input text\n",
    "    corrected_text = str(TextBlob(input_text).correct())\n",
    "\n",
    "    # Translate into selected language\n",
    "    selected_language = lang_combobox.get()\n",
    "    translated = translator.translate(corrected_text, dest=selected_language)\n",
    "    \n",
    "    # Autocorrect translated output\n",
    "    corrected_output = str(TextBlob(translated.text).correct())\n",
    "\n",
    "    # Display corrected output\n",
    "    output_text_box.delete(\"1.0\", tk.END)\n",
    "    output_text_box.insert(tk.END, corrected_output)\n",
    "\n",
    "# Function to recognize voice input\n",
    "def recognize_voice():\n",
    "    recognizer = sr.Recognizer()\n",
    "    with sr.Microphone() as source:\n",
    "        try:\n",
    "            status_label.config(text=\"Listening...\", fg=\"red\")\n",
    "            audio = recognizer.listen(source)\n",
    "            status_label.config(text=\"Recognizing...\", fg=\"blue\")\n",
    "            voice_text = recognizer.recognize_google(audio)  # Speech to Text\n",
    "            \n",
    "            # Insert recognized text into input box\n",
    "            input_text_box.delete(\"1.0\", tk.END)\n",
    "            input_text_box.insert(tk.END, voice_text)\n",
    "            \n",
    "            # Auto-translate\n",
    "            translate_text()\n",
    "            status_label.config(text=\"Voice Recognition Complete\", fg=\"green\")\n",
    "        except sr.UnknownValueError:\n",
    "            messagebox.showerror(\"Error\", \"Could not understand the audio\")\n",
    "        except sr.RequestError:\n",
    "            messagebox.showerror(\"Error\", \"Could not request results from Google Speech Recognition service\")\n",
    "\n",
    "# Function to speak translated text\n",
    "def speak_text():\n",
    "    output_text = output_text_box.get(\"1.0\", tk.END).strip()\n",
    "    if output_text:\n",
    "        engine.say(output_text)\n",
    "        engine.runAndWait()\n",
    "\n",
    "# GUI Setup\n",
    "root = tk.Tk()\n",
    "root.title(\"Language Translator\")\n",
    "root.geometry(\"650x650\")\n",
    "root.configure(bg=\"#FFDEE9\")  # Light pink background\n",
    "\n",
    "# Styling\n",
    "label_font = (\"Arial\", 12, \"bold\")\n",
    "button_font = (\"Arial\", 10, \"bold\")\n",
    "\n",
    "# Title Label with colorful background\n",
    "title_label = tk.Label(root, text=\"Language Translator\", font=(\"Arial\", 16, \"bold\"), bg=\"#FF4081\", fg=\"white\", pady=10)\n",
    "title_label.pack(fill=tk.X)\n",
    "\n",
    "# Input Text Box with colorful border\n",
    "tk.Label(root, text=\"Enter Text:\", font=label_font, bg=\"#FFDEE9\").pack()\n",
    "input_text_box = tk.Text(root, height=5, width=60, bg=\"white\", fg=\"black\", font=(\"Arial\", 10), relief=\"solid\", bd=2)\n",
    "input_text_box.pack()\n",
    "\n",
    "# Language Selection Dropdown\n",
    "tk.Label(root, text=\"Select Language:\", font=label_font, bg=\"#FFDEE9\").pack()\n",
    "lang_combobox = ttk.Combobox(root, values=list(LANGUAGES.keys()), font=(\"Arial\", 10))\n",
    "lang_combobox.set(\"en\")  # Default English\n",
    "lang_combobox.pack()\n",
    "\n",
    "# Translate Button with colorful background\n",
    "translate_button = tk.Button(root, text=\"Translate\", command=translate_text, font=button_font, bg=\"#6200EA\", fg=\"white\", relief=\"raised\")\n",
    "translate_button.pack(pady=5)\n",
    "\n",
    "# Voice Input Button with blue color\n",
    "voice_button = tk.Button(root, text=\"Speak\", command=recognize_voice, font=button_font, bg=\"#03A9F4\", fg=\"white\", relief=\"raised\")\n",
    "voice_button.pack(pady=5)\n",
    "\n",
    "# Output Text Box with yellow background\n",
    "tk.Label(root, text=\"Translated Text:\", font=label_font, bg=\"#FFDEE9\").pack()\n",
    "output_text_box = tk.Text(root, height=10, width=60, bg=\"#FFFFCC\", fg=\"black\", font=(\"Arial\", 10), relief=\"solid\", bd=2)\n",
    "output_text_box.pack()\n",
    "\n",
    "# Speak Output Button with green color\n",
    "speak_button = tk.Button(root, text=\"Speak Output\", command=speak_text, font=button_font, bg=\"#4CAF50\", fg=\"white\", relief=\"raised\")\n",
    "speak_button.pack(pady=5)\n",
    "\n",
    "# Status Label for voice recognition feedback\n",
    "status_label = tk.Label(root, text=\"\", font=(\"Arial\", 10, \"bold\"), bg=\"#FFDEE9\")\n",
    "status_label.pack()\n",
    "\n",
    "# Run the GUI\n",
    "root.mainloop() \n"
   ]
  },
  {
   "cell_type": "code",
   "execution_count": null,
   "id": "f563f5aa-ca85-4fe1-a28a-d4a50d3c4d24",
   "metadata": {},
   "outputs": [],
   "source": []
  },
  {
   "cell_type": "code",
   "execution_count": null,
   "id": "b37c7714-d91e-42eb-878c-6f33289f68c4",
   "metadata": {},
   "outputs": [],
   "source": []
  }
 ],
 "metadata": {
  "kernelspec": {
   "display_name": "Python 3 (ipykernel)",
   "language": "python",
   "name": "python3"
  },
  "language_info": {
   "codemirror_mode": {
    "name": "ipython",
    "version": 3
   },
   "file_extension": ".py",
   "mimetype": "text/x-python",
   "name": "python",
   "nbconvert_exporter": "python",
   "pygments_lexer": "ipython3",
   "version": "3.12.7"
  }
 },
 "nbformat": 4,
 "nbformat_minor": 5
}
