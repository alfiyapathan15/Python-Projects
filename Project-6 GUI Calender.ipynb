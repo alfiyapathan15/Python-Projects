{
 "cells": [
  {
   "cell_type": "markdown",
   "id": "cc1ed939-17d3-4a9b-be14-5082c762586d",
   "metadata": {},
   "source": [
    "# Project-8 GUI Calendar with Tkinter "
   ]
  },
  {
   "cell_type": "code",
   "execution_count": 5,
   "id": "a4a89347-d377-44b2-b997-abe45cf061c4",
   "metadata": {},
   "outputs": [
    {
     "name": "stdout",
     "output_type": "stream",
     "text": [
      "Note: you may need to restart the kernel to use updated packages.\n"
     ]
    },
    {
     "name": "stderr",
     "output_type": "stream",
     "text": [
      "ERROR: Could not find a version that satisfies the requirement tkinter (from versions: none)\n",
      "ERROR: No matching distribution found for tkinter\n"
     ]
    }
   ],
   "source": [
    "pip install tkinter"
   ]
  },
  {
   "cell_type": "code",
   "execution_count": 1,
   "id": "f61914e3-34ac-45e5-97a4-ea6befa35713",
   "metadata": {},
   "outputs": [],
   "source": [
    "from tkinter import*\n",
    "import calendar "
   ]
  },
  {
   "cell_type": "code",
   "execution_count": null,
   "id": "f2cf6f98-6fb6-43ad-8d22-cb0a63e5bee4",
   "metadata": {},
   "outputs": [],
   "source": []
  }
 ],
 "metadata": {
  "kernelspec": {
   "display_name": "Python 3 (ipykernel)",
   "language": "python",
   "name": "python3"
  },
  "language_info": {
   "codemirror_mode": {
    "name": "ipython",
    "version": 3
   },
   "file_extension": ".py",
   "mimetype": "text/x-python",
   "name": "python",
   "nbconvert_exporter": "python",
   "pygments_lexer": "ipython3",
   "version": "3.12.7"
  }
 },
 "nbformat": 4,
 "nbformat_minor": 5
}
